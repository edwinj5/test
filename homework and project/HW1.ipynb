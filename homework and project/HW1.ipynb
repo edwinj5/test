{
 "cells": [
  {
   "cell_type": "markdown",
   "metadata": {},
   "source": [
    "# HW 1\n",
    "# Edwin Jiang\n",
    "# 1461282"
   ]
  },
  {
   "cell_type": "markdown",
   "metadata": {},
   "source": [
    "## Summary of the article\n",
    "\n",
    "This is a summary of a paper talking about using machine learning and data science tools to study and design self-assembly dipeptide hydrogels. Hydrogels that are self-assembled by peptides have attracted many scholars’ interests. Such materials can be applied for biomedical usage, but the relationship between peptides chemical features and their corresponding properties is unclear. To design a hydrogel with wanted properties, most scientists will just make slight modification on existing ones which costs much time, but material properties can be improved little. The prediction for the formation of hydrogels is a challenging. The author suggested a strategy to study and guide the design of self-assembly dipeptide hydrogels by using machine learning. He constructed a combinatorial library for 2304 separate chemical structures with 3109 structural parameters per molecule. Then, he applied random forest, gradient boosting and logistic regression to train the model and predict hydrogels formation. Gradient boosting method achieved precisions of 62%. In addition, he also used these three machine learning algorithms to study what descriptors contribute most to formation of molecular hydrogels. Both the combinatorial hydrogel library and the developed machine learning approach guide scholars on novel peptide structures design.  \n"
   ]
  },
  {
   "cell_type": "markdown",
   "metadata": {},
   "source": [
    "The article could be found as [Design of self-assembly dipeptide hydrogels and machine learning via their chemical features](https://www.pnas.org/content/116/23/11259).\n"
   ]
  }
 ],
 "metadata": {
  "kernelspec": {
   "display_name": "Python 3",
   "language": "python",
   "name": "python3"
  },
  "language_info": {
   "codemirror_mode": {
    "name": "ipython",
    "version": 3
   },
   "file_extension": ".py",
   "mimetype": "text/x-python",
   "name": "python",
   "nbconvert_exporter": "python",
   "pygments_lexer": "ipython3",
   "version": "3.7.3"
  }
 },
 "nbformat": 4,
 "nbformat_minor": 2
}
