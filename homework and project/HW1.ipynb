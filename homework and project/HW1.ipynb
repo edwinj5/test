{
 "cells": [
  {
   "cell_type": "markdown",
   "metadata": {},
   "source": [
    "### HW Assignment 1 for DSMCER\n",
    "\n",
    "* Overview: This HW assignment is primarily designed to introduce you to some aspects of Data Science.  A secondary goal of the HW assignment is to get practice with git, GitHub classroom and related tools you will be using in both classes. \n",
    "* Instructions: \n",
    "    * Check out this jupyter notebook from GitHub classroom (if you are reading this, you probably did it). If you had a friend give you the python notebook, stop now and figure out how to get the correct starter code from GitHub classroom.\n",
    "    * Do the assigned reading for DSM-CER (The Data Science review article by Beck et al.).  If you have any lingering questions, enter them in the appropriate cell below, in markdown format and colored in <font color='red'>_red text_</font>\n",
    "    * Find a research paper related to your own research area, or a research area of interest that is at the intersection of materials/chemicals science/engineering and Data Science. In the appropriate cell below, add the correct <a href=\"http://google.com\" target=\"_blank\">link to the paper</a> so that we can find it. \n",
    "        * If you cannot find a paper you want to read you can look for papers related to Materials Genome Initative, The Materials Project, Harvard Clean Energy Project, The Open Quantum Materials Database, or references from Part 1.  \n",
    "            * _If you still can't find a paper, talk to us on Slack or come to office hours_\n",
    "                * **_If you still can't find a paper, I am out of suggestions_**\n",
    "    * Write a brief (200 words or fewer) summary of the paper, making sure to note the methods that were used as well as how the authors addressed one or more data-related challenges \n",
    "    * Turn in the completed python notebook using GitHub classroom"
   ]
  },
  {
   "cell_type": "markdown",
   "metadata": {},
   "source": [
    "## Part 1\n",
    "Any questions from reading Beck et. al?"
   ]
  },
  {
   "cell_type": "markdown",
   "metadata": {},
   "source": []
  },
  {
   "cell_type": "markdown",
   "metadata": {},
   "source": [
    "## Part 2 \n",
    "Provide the full details of the paper you found here. Use markdown to format it smartly and provide the link as requested"
   ]
  },
  {
   "cell_type": "markdown",
   "metadata": {},
   "source": [
    "The article could be found as [Design of self-assembly dipeptide hydrogels and machine learning via their chemical features](https://www.pnas.org/content/116/23/11259).\n"
   ]
  },
  {
   "cell_type": "markdown",
   "metadata": {},
   "source": []
  },
  {
   "cell_type": "markdown",
   "metadata": {},
   "source": [
    "## Part 3 \n",
    "Provide your brief summary here in markdown format. Please make every effort that it is free from typos and grammatical mistakes. Excessive typos or basic grammatical mistakes (i.e., that interfere with readability) will be marked down (no pun) 15%. There are Jupyter plug-ins that can do spell-check, but if you are concerned it might be faster to just copy-paste your summary and then format it correctly."
   ]
  },
  {
   "cell_type": "markdown",
   "metadata": {},
   "source": [
    "This is a summary of a paper talking about using machine learning and data science tools to study and design self-assembly dipeptide hydrogels. Hydrogels that are self-assembled by peptides have attracted many scholars’ interests. Such materials can be applied for biomedical usage, but the relationship between peptides chemical features and their corresponding properties is unclear. To design a hydrogel with wanted properties, most scientists will just make slight modification on existing ones which costs much time, but material properties can be improved little. The prediction for the formation of hydrogels is a challenging. The author suggested a strategy to study and guide the design of self-assembly dipeptide hydrogels by using machine learning. He constructed a combinatorial library for 2304 separate chemical structures with 3109 structural parameters per molecule. Then, he applied random forest, gradient boosting and logistic regression to train the model and predict hydrogels formation. Gradient boosting method achieved precisions of 62%. In addition, he also used these three machine learning algorithms to study what descriptors contribute most to formation of molecular hydrogels. Both the combinatorial hydrogel library and the developed machine learning approach guide scholars on novel peptide structures design.  "
   ]
  },
  {
   "cell_type": "markdown",
   "metadata": {},
   "source": []
  }
 ],
 "metadata": {
  "kernelspec": {
   "display_name": "Python 3",
   "language": "python",
   "name": "python3"
  },
  "language_info": {
   "codemirror_mode": {
    "name": "ipython",
    "version": 3
   },
   "file_extension": ".py",
   "mimetype": "text/x-python",
   "name": "python",
   "nbconvert_exporter": "python",
   "pygments_lexer": "ipython3",
   "version": "3.7.3"
  }
 },
 "nbformat": 4,
 "nbformat_minor": 1
}
