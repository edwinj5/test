{
 "cells": [
  {
   "cell_type": "markdown",
   "metadata": {},
   "source": [
    "## If a cell begins with DNC: do not change it and leave the markdown there so I can expect a basic level of  organization that is common to all HW (will help me with grading). This also clearly delineates the sections for me"
   ]
  },
  {
   "cell_type": "markdown",
   "metadata": {},
   "source": [
    "## DNC: preamble leave any general comments here and, in keeping with good practice, I suggest you load all needed modules in the preamble"
   ]
  },
  {
   "cell_type": "code",
   "execution_count": 1,
   "metadata": {},
   "outputs": [],
   "source": [
    "import numpy as np\n",
    "import pandas as pd\n",
    "import matplotlib.pyplot as plt\n",
    "import scipy\n",
    "import scipy.interpolate\n",
    "import scipy.stats as stats\n",
    "%matplotlib inline"
   ]
  },
  {
   "cell_type": "markdown",
   "metadata": {},
   "source": [
    "## DNC: Begin Part 1: Descriptive Statistics "
   ]
  },
  {
   "cell_type": "markdown",
   "metadata": {},
   "source": [
    "### Part 1: Problems for descriptive statistics \n",
    "\n",
    "#### 1-1: Understanding statistical calculations in python \n",
    "\n",
    "* Create a numpy array that has 10 uniform random numbers between 25.0 and 35.0, store it as a variable \n",
    "* Createa pandas dataframe with one frame based on your numpy array \n",
    "* Use \"np.std\" and \"pd.std\" formulas to calculate the standard deviation from both arrays, do not change any of the default arguments \n",
    "* The numbers should be different, explain why \n",
    "* Repeat the exercise with 1E6 uniform random numbers drawn from the same range \n",
    "* Comment on whether the numbers are different or not and explain why \n",
    "* Demonstrate that by using the proper function arguments you can obtain the same answer in both methods \n",
    "\n",
    "\n",
    "#### 1-2: Box plots \n",
    "\n",
    "* The data file GerberdingElectricityChilledWater.csv shows chilled water (energy) and electricity usage for Gerberding Hall over approximately an 18 month period from Jan 2013 to June 2014.  \n",
    "* **Note: these are real data! If you make any executive decisions (e.g., remove some points for very specific reasons), clearly explain your decision and motivation for doing so** \n",
    "\n",
    "* Load the data into Python (your choice of method) and prepare a box plot summary of the data. \n",
    "* Present the plot in the nicest possible format (e.g., improve it from the default and prepare it for publication or presentation format) - this is open ended and you can use your judgement \n",
    "* Explain in your own words what each part on the box plot means"
   ]
  },
  {
   "cell_type": "markdown",
   "metadata": {},
   "source": [
    "### For 1-1"
   ]
  },
  {
   "cell_type": "code",
   "execution_count": 2,
   "metadata": {},
   "outputs": [
    {
     "name": "stdout",
     "output_type": "stream",
     "text": [
      "This is the numbers:  [31.12256173 33.0224867  28.69867426 28.72281083 26.61310028 26.88488282\n",
      " 34.28212997 26.45511935 30.99441063 27.26599102]\n",
      "This is the DataFrame:             0\n",
      "0  31.122562\n",
      "1  33.022487\n",
      "2  28.698674\n",
      "3  28.722811\n",
      "4  26.613100\n",
      "5  26.884883\n",
      "6  34.282130\n",
      "7  26.455119\n",
      "8  30.994411\n",
      "9  27.265991\n",
      "This is the output of np.std:  2.659623364546472\n",
      "This is the output of pd.std:  0    2.803489\n",
      "dtype: float64\n"
     ]
    }
   ],
   "source": [
    "ru1 = np.random.uniform(25,35,10)\n",
    "print('This is the numbers: ', ru1)\n",
    "data1 = pd.DataFrame(ru1)\n",
    "print('This is the DataFrame: ', data1)\n",
    "npstd = np.std(ru1)\n",
    "pdstd = pd.DataFrame.std(data1)\n",
    "print('This is the output of np.std: ', npstd)\n",
    "print('This is the output of pd.std: ', pdstd)\n"
   ]
  },
  {
   "cell_type": "markdown",
   "metadata": {},
   "source": [
    "The difference between two std is because the the method is different, one is divided by n and the other is (n-1), then when calculate the standard deviation, there is a difference."
   ]
  },
  {
   "cell_type": "code",
   "execution_count": 3,
   "metadata": {},
   "outputs": [
    {
     "name": "stdout",
     "output_type": "stream",
     "text": [
      "This is the numbers:  [26.45572814 30.04660895 31.05210461 ... 27.43560627 30.72073568\n",
      " 27.63419038]\n",
      "This is the DataFrame:                  0\n",
      "0       26.455728\n",
      "1       30.046609\n",
      "2       31.052105\n",
      "3       31.887150\n",
      "4       26.049164\n",
      "5       27.603627\n",
      "6       26.777327\n",
      "7       32.717153\n",
      "8       34.628043\n",
      "9       30.480941\n",
      "10      26.645009\n",
      "11      34.574096\n",
      "12      34.354321\n",
      "13      33.056014\n",
      "14      30.628845\n",
      "15      25.328400\n",
      "16      27.676312\n",
      "17      31.798654\n",
      "18      32.152768\n",
      "19      33.060973\n",
      "20      30.064764\n",
      "21      26.814390\n",
      "22      34.651523\n",
      "23      31.640867\n",
      "24      26.523898\n",
      "25      26.837525\n",
      "26      29.512609\n",
      "27      27.063448\n",
      "28      26.925589\n",
      "29      32.745039\n",
      "...           ...\n",
      "999970  33.972009\n",
      "999971  28.945027\n",
      "999972  32.532785\n",
      "999973  31.432495\n",
      "999974  32.452168\n",
      "999975  32.312522\n",
      "999976  27.245690\n",
      "999977  29.072192\n",
      "999978  29.341434\n",
      "999979  28.598482\n",
      "999980  31.052363\n",
      "999981  26.627393\n",
      "999982  31.297378\n",
      "999983  34.541409\n",
      "999984  26.858498\n",
      "999985  30.416902\n",
      "999986  30.788266\n",
      "999987  26.102660\n",
      "999988  31.910985\n",
      "999989  29.121461\n",
      "999990  30.443868\n",
      "999991  28.790335\n",
      "999992  30.318406\n",
      "999993  33.007132\n",
      "999994  34.511092\n",
      "999995  25.487847\n",
      "999996  30.521140\n",
      "999997  27.435606\n",
      "999998  30.720736\n",
      "999999  27.634190\n",
      "\n",
      "[1000000 rows x 1 columns]\n",
      "This is the output of np.std:  2.8865990186875505\n",
      "This is the output of pd.std:  0    2.8866\n",
      "dtype: float64\n"
     ]
    }
   ],
   "source": [
    "ru2 = np.random.uniform(25,35,1000000)\n",
    "print('This is the numbers: ', ru2)\n",
    "data2 = pd.DataFrame(ru2)\n",
    "print('This is the DataFrame: ', data2)\n",
    "npstd2 = np.std(ru2)\n",
    "pdstd2 = pd.DataFrame.std(data2)\n",
    "print('This is the output of np.std: ', npstd2)\n",
    "print('This is the output of pd.std: ', pdstd2)\n"
   ]
  },
  {
   "cell_type": "markdown",
   "metadata": {},
   "source": [
    "It's difference but really close. Because the number of the data is really huge, therefore it will infinite approach the theoretical standard deviation. but not the same.\n"
   ]
  },
  {
   "cell_type": "code",
   "execution_count": 4,
   "metadata": {},
   "outputs": [
    {
     "name": "stdout",
     "output_type": "stream",
     "text": [
      "3.0338414141899537\n",
      "3.0338414141899532\n"
     ]
    }
   ],
   "source": [
    "ru3 = np.random.uniform(25,35,100) # Change the number from 1E6 to 100.\n",
    "data3 = pd.DataFrame(ru3)\n",
    "npstd3 = np.std(ru3,ddof=1) # by using \"ddof=1\" can make the 2 results the same.\n",
    "print(float(npstd3))\n",
    "pdstd3 = pd.DataFrame.std(data3)\n",
    "print(float(pdstd3))\n"
   ]
  },
  {
   "cell_type": "markdown",
   "metadata": {},
   "source": [
    "###  For 1-2"
   ]
  },
  {
   "cell_type": "code",
   "execution_count": 5,
   "metadata": {},
   "outputs": [
    {
     "data": {
      "text/html": [
       "<div>\n",
       "<style scoped>\n",
       "    .dataframe tbody tr th:only-of-type {\n",
       "        vertical-align: middle;\n",
       "    }\n",
       "\n",
       "    .dataframe tbody tr th {\n",
       "        vertical-align: top;\n",
       "    }\n",
       "\n",
       "    .dataframe thead th {\n",
       "        text-align: right;\n",
       "    }\n",
       "</style>\n",
       "<table border=\"1\" class=\"dataframe\">\n",
       "  <thead>\n",
       "    <tr style=\"text-align: right;\">\n",
       "      <th></th>\n",
       "      <th>DateTime</th>\n",
       "      <th>Btu</th>\n",
       "      <th>kWh</th>\n",
       "    </tr>\n",
       "  </thead>\n",
       "  <tbody>\n",
       "    <tr>\n",
       "      <th>0</th>\n",
       "      <td>1/1/13 0:15</td>\n",
       "      <td>49664.0</td>\n",
       "      <td>19.69</td>\n",
       "    </tr>\n",
       "    <tr>\n",
       "      <th>1</th>\n",
       "      <td>1/1/13 0:30</td>\n",
       "      <td>90112.0</td>\n",
       "      <td>20.84</td>\n",
       "    </tr>\n",
       "    <tr>\n",
       "      <th>2</th>\n",
       "      <td>1/1/13 0:45</td>\n",
       "      <td>19968.0</td>\n",
       "      <td>17.42</td>\n",
       "    </tr>\n",
       "    <tr>\n",
       "      <th>3</th>\n",
       "      <td>1/1/13 1:00</td>\n",
       "      <td>50176.0</td>\n",
       "      <td>19.59</td>\n",
       "    </tr>\n",
       "    <tr>\n",
       "      <th>4</th>\n",
       "      <td>1/1/13 1:15</td>\n",
       "      <td>99840.0</td>\n",
       "      <td>20.46</td>\n",
       "    </tr>\n",
       "  </tbody>\n",
       "</table>\n",
       "</div>"
      ],
      "text/plain": [
       "      DateTime      Btu    kWh\n",
       "0  1/1/13 0:15  49664.0  19.69\n",
       "1  1/1/13 0:30  90112.0  20.84\n",
       "2  1/1/13 0:45  19968.0  17.42\n",
       "3  1/1/13 1:00  50176.0  19.59\n",
       "4  1/1/13 1:15  99840.0  20.46"
      ]
     },
     "execution_count": 5,
     "metadata": {},
     "output_type": "execute_result"
    }
   ],
   "source": [
    "data1 = pd.read_csv('GerberdingElectricityChilledWater.csv')\n",
    "data1.head()"
   ]
  },
  {
   "cell_type": "code",
   "execution_count": 6,
   "metadata": {},
   "outputs": [
    {
     "data": {
      "text/plain": [
       "Text(0, 0.5, 'Btu')"
      ]
     },
     "execution_count": 6,
     "metadata": {},
     "output_type": "execute_result"
    },
    {
     "data": {
      "image/png": "[encoded data removed]",
      "text/plain": [
       "<Figure size 1008x504 with 2 Axes>"
      ]
     },
     "metadata": {
      "needs_background": "light"
     },
     "output_type": "display_data"
    }
   ],
   "source": [
    "x1=data1['kWh']\n",
    "x2=data1['Btu']\n",
    "fig = plt.figure(figsize=(14,7))\n",
    "\n",
    "ax1 = plt.subplot(1,2,1)\n",
    "ax1.boxplot(x=x1, showfliers=False)\n",
    "plt.ylabel('kWh')\n",
    "\n",
    "ax2 = plt.subplot(1,2,2)\n",
    "ax2.boxplot(x=x2, showfliers=False)\n",
    "plt.ylabel('Btu')\n"
   ]
  },
  {
   "cell_type": "markdown",
   "metadata": {},
   "source": [
    "* Using the subplot to create 2 diagrams. The left is 'kWh' and the right is 'Btu'. \n",
    "* Using ``showfliers=False`` to delete the abnormal data from the plot.\n",
    "* The horizontal bottom line indicates that this is the minimum number and the line lies in the top means it's the maximum number.\n",
    "* For the box, the yellow line is the median, and the upper line of the box means the 75% value of the data is lower than this number, and the lower line is 25%."
   ]
  },
  {
   "cell_type": "markdown",
   "metadata": {},
   "source": [
    "## DNC: Begin Part 2"
   ]
  },
  {
   "cell_type": "markdown",
   "metadata": {},
   "source": [
    "### Part 2: Distributions \n",
    "\n",
    "* Your goal is to prepare a side-by-side plot describing the distribution of data from part 1 related to Gerberding Hall.\n",
    "\n",
    "1) To complete the plot you should assume the data are normally distributed and determine the mean and standard deviation of the chilled water data series.  \n",
    "\n",
    "2) The left panel of the plot should be a normalized histogram of the chilled water data with an **overlay** of the PDF of the normal distribution based on the $\\bar x$ and $s$ values from the data series.  The right panel of the plot should be contain two lines corresponding to the measured CDF and CDF from the normal distribution estimated from the data. \n",
    "\n",
    "3) Repeat (2) for the electricity water \n",
    "\n",
    "4) Comment in a Markdown cell on the ability of a normal distribution to describe this data \n"
   ]
  },
  {
   "cell_type": "markdown",
   "metadata": {},
   "source": [
    "#### For Btu"
   ]
  },
  {
   "cell_type": "code",
   "execution_count": 7,
   "metadata": {},
   "outputs": [
    {
     "data": {
      "text/plain": [
       "(49998, 3)"
      ]
     },
     "execution_count": 7,
     "metadata": {},
     "output_type": "execute_result"
    }
   ],
   "source": [
    "data1.shape\n",
    "# To find how many data in the file"
   ]
  },
  {
   "cell_type": "code",
   "execution_count": 8,
   "metadata": {},
   "outputs": [
    {
     "name": "stdout",
     "output_type": "stream",
     "text": [
      "This is the Mean of Btu:  61428.009943279096\n",
      "This is the Mean of kWh:  18.673827553061372\n",
      "This is the Std of Btu:  33781.789676406275\n",
      "This is the Std of kWh:  14.736762424483159\n"
     ]
    }
   ],
   "source": [
    "print('This is the Mean of Btu: ', data1['Btu'].mean())\n",
    "print('This is the Mean of kWh: ', data1['kWh'].mean())\n",
    "print('This is the Std of Btu: ', data1['Btu'].std())\n",
    "print('This is the Std of kWh: ', data1['kWh'].std())"
   ]
  },
  {
   "cell_type": "code",
   "execution_count": 9,
   "metadata": {},
   "outputs": [],
   "source": [
    "sample_Btu =  np.random.normal(data1['Btu'].mean(),data1['Btu'].std(),49998)\n",
    "# create a normal distribution sample, which have the same amount of data with the file."
   ]
  },
  {
   "cell_type": "code",
   "execution_count": 10,
   "metadata": {},
   "outputs": [],
   "source": [
    "# Create a function in order to calculate the CDF\n",
    "def cdf1(data, bins=100):\n",
    "    hist_data, bin_edges = np.histogram(data, bins=100, density=True)\n",
    "    cdf_bins = np.cumsum(hist_data * np.diff(bin_edges))\n",
    "    cdf_bins = np.insert(cdf_bins, 0, 0)\n",
    "    \n",
    "    cdf = scipy.interpolate.interp1d(bin_edges, cdf_bins)\n",
    "    \n",
    "    return [cdf]"
   ]
  },
  {
   "cell_type": "code",
   "execution_count": 20,
   "metadata": {},
   "outputs": [
    {
     "data": {
      "image/png": "[encoded data removed]",
      "text/plain": [
       "<Figure size 720x504 with 2 Axes>"
      ]
     },
     "metadata": {
      "needs_background": "light"
     },
     "output_type": "display_data"
    }
   ],
   "source": [
    "plt.figure(figsize=(10,7))\n",
    "ax3 = plt.subplot(1,2,1)\n",
    "plt.hist(data1['Btu'],bins=200,density=True,zorder=0,label='measured')\n",
    "plt.hist(sample_Btu, bins=200,density=True,histtype='step',zorder=1,color='red',label='theoretical')\n",
    "plt.xlim(-100000,250000)\n",
    "plt.legend()\n",
    "\n",
    "ax4 = plt.subplot(1,2,2)\n",
    "[cdf] = cdf1(data1['Btu'],100)\n",
    "x = np.linspace(np.min(data1['Btu']), np.max(data1['Btu']), num=49998)\n",
    "plt.plot(x,cdf(x),zorder=0,label='measured')\n",
    "[cdf] = cdf1(sample_Btu,100)\n",
    "x = np.linspace(np.min(sample_Btu), np.max(sample_Btu), num=49998)\n",
    "plt.plot(x,cdf(x),zorder=1,color='red',label='theoretical')\n",
    "plt.xlim(-100000,250000)\n",
    "plt.legend()\n",
    "plt.show()"
   ]
  },
  {
   "cell_type": "markdown",
   "metadata": {},
   "source": [
    "<font color='red'>\n",
    "    Plot a Smooth curve of PDF"
   ]
  },
  {
   "cell_type": "code",
   "execution_count": 12,
   "metadata": {},
   "outputs": [],
   "source": [
    "def normfun(x,mu,sigma):\n",
    "    pdf = np.exp(-((x - mu)**2)/(2*sigma**2)) / (sigma * np.sqrt(2*np.pi))\n",
    "    return pdf"
   ]
  },
  {
   "cell_type": "code",
   "execution_count": 22,
   "metadata": {},
   "outputs": [
    {
     "data": {
      "text/plain": [
       "(-100000, 250000)"
      ]
     },
     "execution_count": 22,
     "metadata": {},
     "output_type": "execute_result"
    },
    {
     "data": {
      "image/png": "[encoded data removed]",
      "text/plain": [
       "<Figure size 720x504 with 1 Axes>"
      ]
     },
     "metadata": {
      "needs_background": "light"
     },
     "output_type": "display_data"
    }
   ],
   "source": [
    "plt.figure(figsize=(10,7))\n",
    "\n",
    "ax7 = plt.subplot(1,1,1)\n",
    "plt.hist(data1['Btu'],bins=200,density=True,zorder=0,label='measured')\n",
    "x7 = np.arange(sample_Btu.min(),sample_Btu.max(),1)\n",
    "y7 = normfun(x7,data1['Btu'].mean(),data1['Btu'].std())\n",
    "plt.plot(x7,y7,zorder=1,color='red')dd\n",
    "plt.xlim(-100000,250000)\n"
   ]
  },
  {
   "cell_type": "markdown",
   "metadata": {},
   "source": [
    "#### For kWh"
   ]
  },
  {
   "cell_type": "code",
   "execution_count": 18,
   "metadata": {},
   "outputs": [],
   "source": [
    "sample_kWh = np.random.normal(data1['kWh'].mean(),data1['kWh'].std(),49998)"
   ]
  },
  {
   "cell_type": "code",
   "execution_count": 19,
   "metadata": {},
   "outputs": [
    {
     "data": {
      "image/png": "[encoded data removed]",
      "text/plain": [
       "<Figure size 720x504 with 2 Axes>"
      ]
     },
     "metadata": {
      "needs_background": "light"
     },
     "output_type": "display_data"
    }
   ],
   "source": [
    "plt.figure(figsize=(10,7))\n",
    "ax5 = plt.subplot(1,2,1)\n",
    "plt.hist(data1['kWh'],bins=200,density=True,zorder=0,label='measured')\n",
    "plt.hist(sample_kWh,bins=200,density=True,histtype='step',zorder=1,color='red',label='theoretical')\n",
    "plt.xlim(-50,75)\n",
    "plt.legend()\n",
    "\n",
    "ax6 = plt.subplot(1,2,2)\n",
    "[cdf] = cdf1(data1['kWh'],100)\n",
    "x = np.linspace(np.min(data1['kWh']),np.max(data1['kWh']),num=49998)\n",
    "plt.plot(x,cdf(x),zorder=0,label='measured')\n",
    "[cdf] = cdf1(sample_kWh,100)\n",
    "x = np.linspace(np.min(sample_kWh),np.max(sample_kWh),num=49998)\n",
    "plt.plot(x,cdf(x),zorder=1,color='red',label='theoretical')\n",
    "plt.legend()\n",
    "plt.show()"
   ]
  },
  {
   "cell_type": "markdown",
   "metadata": {},
   "source": [
    "In this section, I use ``np.random.normal``to create 2 samples, and draw the ``hist`` to show the relation between the data and the normal distribution sample. \n",
    "\n",
    "After draw the 4 figure, the 'Btu' is very close to normal distribution but the 'kWh' is not. \n",
    "\n",
    "And by reading the normal distribution diagram, we can easily tell the mean of the data, which is close to the mean we calculated before. "
   ]
  },
  {
   "cell_type": "markdown",
   "metadata": {},
   "source": [
    "<font color='blue'> For this section I have a question.   \n",
    "    Do I need to use ``fit`` on the raw data and make it to a normal distribution?"
   ]
  },
  {
   "cell_type": "markdown",
   "metadata": {
    "collapsed": true
   },
   "source": [
    "## DNC: Begin Part 3"
   ]
  },
  {
   "cell_type": "markdown",
   "metadata": {},
   "source": [
    "### Part 3: Hypothesis testing \n",
    "\n",
    "The file energyuse.csv contains energy use data for 6 UW students. The data include electricity for lighting, all other electricity use and total electricity use. The final entry in the data file is the national average of the same values. \n",
    "\n",
    "Please do the following\n",
    "\n",
    "1) Formulate a statistical hypothesis to test about the three data sets and clearly state it  \n",
    "2) Perform a test a significance level of P=0.05 (_make sure to clearly comment your work so I can follow what you are doing_)  \n",
    "3) Clearly state the meaning of the results in plain language "
   ]
  },
  {
   "cell_type": "markdown",
   "metadata": {},
   "source": [
    "By calculating the P value, the equation is:\n",
    "$$ t = \\frac {|\\bar{X}-\\mu|}{S_{\\bar{X}}}= \\frac {\\bar{X}-\\mu}{S/\\sqrt{n}}$$  \n",
    "And the $\\bar{X}$ is the mean of the sample, $S$ is the sandard deviation. In the P value hypothesis, if we set the P value at 0.05. And when the P we calculated is less than 0.05, which means the hypothesis is not very good and should be rejected. "
   ]
  },
  {
   "cell_type": "markdown",
   "metadata": {},
   "source": [
    "<font color='red'> Thus, make 3 hypothesies:  \n",
    "    * The mean of the Lighting usage for UW students are approximately equal to the national average\n",
    "    * The mean of the Electricity usage of UW students are approximately equal to the national average\n",
    "    * The mean of the Totla usage of UW students are approximately euqual to the national average"
   ]
  },
  {
   "cell_type": "code",
   "execution_count": 24,
   "metadata": {},
   "outputs": [
    {
     "name": "stdout",
     "output_type": "stream",
     "text": [
      "  Group  Lighting  Electricity  Total\n",
      "0     A     0.451        1.270  1.721\n",
      "1     B     1.033        1.769  2.801\n",
      "2     C     0.410        1.629  2.040\n",
      "3     D     0.708        1.633  2.341\n",
      "4     E     2.317        0.725  3.042\n",
      "5     F     1.601        0.634  2.235\n",
      "          Group  Lighting  Electricity  Total\n",
      "0  National Avg      1.76         1.28   3.04\n"
     ]
    }
   ],
   "source": [
    "data2 = pd.read_csv('energyuse.csv',skiprows=[7]) # get the data for the 6 students\n",
    "print(data2)\n",
    "data3 = pd.read_csv('energyuse.csv',skiprows=[1,2,3,4,5,6] ) # get the data for the national average\n",
    "print(data3)\n",
    "\n",
    "d2Lm = data2['Lighting'].mean()\n",
    "d2Em = data2['Electricity'].mean()\n",
    "d2Tm = data2['Total'].mean()"
   ]
  },
  {
   "cell_type": "code",
   "execution_count": 25,
   "metadata": {},
   "outputs": [
    {
     "name": "stdout",
     "output_type": "stream",
     "text": [
      "0.13908791311613236\n",
      "0.14138099745210927\n",
      "0.4792479641342755\n"
     ]
    }
   ],
   "source": [
    "for datasetA in [data2['Lighting'],data2['Electricity'],data2['Total']]:\n",
    "    datasetB=[1.76,1.28,3.04]\n",
    "    [t, p] = stats.ttest_ind(datasetA, datasetB)\n",
    "    print(p)\n",
    "# Have no idea why the number is different."
   ]
  },
  {
   "cell_type": "code",
   "execution_count": 26,
   "metadata": {},
   "outputs": [
    {
     "name": "stdout",
     "output_type": "stream",
     "text": [
      "0.07816916049324209\n"
     ]
    }
   ],
   "source": [
    "for datasetA in [data2['Lighting']]:\n",
    "    [t, p] = stats.ttest_1samp(datasetA, 1.76)\n",
    "    print(p)"
   ]
  },
  {
   "cell_type": "code",
   "execution_count": 27,
   "metadata": {},
   "outputs": [
    {
     "name": "stdout",
     "output_type": "stream",
     "text": [
      "0.9874042445399441\n"
     ]
    }
   ],
   "source": [
    "for datasetB in [data2['Electricity']]:\n",
    "    [t, p] = stats.ttest_1samp(datasetB, 1.28)\n",
    "    print(p)"
   ]
  },
  {
   "cell_type": "code",
   "execution_count": 28,
   "metadata": {},
   "outputs": [
    {
     "name": "stdout",
     "output_type": "stream",
     "text": [
      "0.01919071796945489\n"
     ]
    }
   ],
   "source": [
    "for datasetC in [data2['Total']]:\n",
    "    [t, p] = stats.ttest_1samp(datasetC, 3.04)\n",
    "    print(p)"
   ]
  },
  {
   "cell_type": "markdown",
   "metadata": {},
   "source": [
    "Seperately calculate the P calue of each column against the national average. If the standard P is 0.05, the results show that the electricity usage of 6 UW students is close to the national average, but the 'Total' is not. And for the Lighting, it's very close to the P value, which means we cannot decide it's related of not. The hypothesis may need to reconsidered.  \n",
    "<font color='red'>\n",
    "Thus the first and second hypothesis are approved and the third one is rejected.    \n",
    "    </font>"
   ]
  },
  {
   "cell_type": "markdown",
   "metadata": {},
   "source": [
    "<font color = 'blue'> Again, I have questions. \n",
    "    I use the ``for``to calculate the data at once and the results are different. I don't know why...  \n",
    "    Is it because the ``lsamp`` and ``ind`` are using different method to calculate the P value?"
   ]
  },
  {
   "cell_type": "markdown",
   "metadata": {},
   "source": [
    "Thank you for your answer, I got it."
   ]
  },
  {
   "cell_type": "code",
   "execution_count": null,
   "metadata": {},
   "outputs": [],
   "source": []
  }
 ],
 "metadata": {
  "anaconda-cloud": {},
  "kernelspec": {
   "display_name": "Python 3",
   "language": "python",
   "name": "python3"
  },
  "language_info": {
   "codemirror_mode": {
    "name": "ipython",
    "version": 3
   },
   "file_extension": ".py",
   "mimetype": "text/x-python",
   "name": "python",
   "nbconvert_exporter": "python",
   "pygments_lexer": "ipython3",
   "version": "3.7.3"
  }
 },
 "nbformat": 4,
 "nbformat_minor": 1
}
